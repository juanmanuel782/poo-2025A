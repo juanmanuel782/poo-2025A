{
  "nbformat": 4,
  "nbformat_minor": 0,
  "metadata": {
    "colab": {
      "provenance": [],
      "authorship_tag": "ABX9TyMVGOd3pLstlI1XCV41x6DN",
      "include_colab_link": true
    },
    "kernelspec": {
      "name": "python3",
      "display_name": "Python 3"
    },
    "language_info": {
      "name": "python"
    }
  },
  "cells": [
    {
      "cell_type": "markdown",
      "metadata": {
        "id": "view-in-github",
        "colab_type": "text"
      },
      "source": [
        "<a href=\"https://colab.research.google.com/github/juanmanuel782/poo-2025A/blob/main/Act_Emails_.ipynb\" target=\"_parent\"><img src=\"https://colab.research.google.com/assets/colab-badge.svg\" alt=\"Open In Colab\"/></a>"
      ]
    },
    {
      "cell_type": "code",
      "execution_count": null,
      "metadata": {
        "id": "p07d3Qb5k7RG"
      },
      "outputs": [],
      "source": [
        "import smtplib, ssl\n",
        "\n",
        "port = 587\n",
        "smtp_server = \"smtp.gmail.com\"\n",
        "sender_email = \"maradoniolopez5@gmail.com\"\n",
        "receiver_email = \"juan.murillo4397@alumnos.udg.mx\"\n",
        "password = \"psdh vjks lwud nbsa\"\n",
        "message = \"\"\"\\\n",
        "Subject: clase de la clase\n",
        "\n",
        "hola saludos de juan manuel murillo lopez\"\"\"\n",
        "\n",
        "context = ssl.create_default_context()\n",
        "with smtplib.SMTP(smtp_server, port) as server:\n",
        "    server.ehlo()\n",
        "    server.starttls(context=context)\n",
        "    server.ehlo()\n",
        "    server.login(sender_email, password)\n",
        "    server.sendmail(sender_email, receiver_email, message)\n"
      ]
    }
  ]
}