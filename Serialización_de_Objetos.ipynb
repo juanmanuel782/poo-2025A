{
  "nbformat": 4,
  "nbformat_minor": 0,
  "metadata": {
    "colab": {
      "provenance": [],
      "authorship_tag": "ABX9TyNY82DJL8VOopCOEWJ5u1zK",
      "include_colab_link": true
    },
    "kernelspec": {
      "name": "python3",
      "display_name": "Python 3"
    },
    "language_info": {
      "name": "python"
    }
  },
  "cells": [
    {
      "cell_type": "markdown",
      "metadata": {
        "id": "view-in-github",
        "colab_type": "text"
      },
      "source": [
        "<a href=\"https://colab.research.google.com/github/juanmanuel782/poo-2025A/blob/main/Serializaci%C3%B3n_de_Objetos.ipynb\" target=\"_parent\"><img src=\"https://colab.research.google.com/assets/colab-badge.svg\" alt=\"Open In Colab\"/></a>"
      ]
    },
    {
      "cell_type": "code",
      "execution_count": null,
      "metadata": {
        "id": "rAXAGujvaC3y"
      },
      "outputs": [],
      "source": [
        "# Guardar lista serializada\n",
        "import pickle\n",
        "\n",
        "lista = [\"apple\", \"grapes\", \"pear\"]\n",
        "with open(\"lst.pkl\", 'wb') as file:\n",
        "    pickle.dump(lista, file)\n"
      ]
    },
    {
      "cell_type": "code",
      "source": [
        "# Recuperar lista serializada\n",
        "import pickle\n",
        "\n",
        "with open(\"lst.pkl\", 'rb') as file:\n",
        "    lista_recuperada = pickle.load(file)\n",
        "\n",
        "print(lista_recuperada)  # ['apple', 'grapes', 'pear']\n"
      ],
      "metadata": {
        "id": "6QxCrOzOaGhL"
      },
      "execution_count": null,
      "outputs": []
    },
    {
      "cell_type": "code",
      "source": [
        "import pickle\n",
        "import os\n",
        "\n",
        "class Student:\n",
        "    def __init__(self, student_id, name, age, gender, grade, email, phone, address):\n",
        "        self.student_id = student_id\n",
        "        self.name = name\n",
        "        self.age = age\n",
        "        self.gender = gender\n",
        "        self.grade = grade\n",
        "        self.email = email\n",
        "        self.phone = phone\n",
        "        self.address = address\n",
        "\n",
        "    def __str__(self):\n",
        "        return (f\"ID: {self.student_id}, Name: {self.name}, Age: {self.age}, \"\n",
        "                f\"Gender: {self.gender}, Grade: {self.grade}, Email: {self.email}, \"\n",
        "                f\"Phone: {self.phone}, Address: {self.address}\")\n",
        "\n",
        "class StudentCRUD:\n",
        "    FILE_NAME = 'students.pkl'\n",
        "\n",
        "    def __init__(self):\n",
        "        self.students = self.load_students()\n",
        "\n",
        "    def load_students(self):\n",
        "        if os.path.exists(self.FILE_NAME):\n",
        "            with open(self.FILE_NAME, 'rb') as f:\n",
        "                return pickle.load(f)\n",
        "        return []\n",
        "\n",
        "    def save_students(self):\n",
        "        with open(self.FILE_NAME, 'wb') as f:\n",
        "            pickle.dump(self.students, f)\n",
        "\n",
        "    def create_student(self, student):\n",
        "        self.students.append(student)\n",
        "        self.save_students()\n",
        "        print(f\"Student {student.name} added successfully.\")\n",
        "\n",
        "    def read_student(self, student_id):\n",
        "        for student in self.students:\n",
        "            if student.student_id == student_id:\n",
        "                return student\n",
        "        print(f\"No student found with ID: {student_id}\")\n",
        "        return None\n",
        "\n",
        "    def update_student(self, student_id, **kwargs):\n",
        "        student = self.read_student(student_id)\n",
        "        if student:\n",
        "            for key, value in kwargs.items():\n",
        "                if hasattr(student, key):\n",
        "                    setattr(student, key, value)\n",
        "            self.save_students()\n",
        "            print(f\"Student {student_id} updated successfully.\")\n",
        "\n",
        "    def delete_student(self, student_id):\n",
        "        student = self.read_student(student_id)\n",
        "        if student:\n",
        "            self.students.remove(student)\n",
        "            self.save_students()\n",
        "            print(f\"Student {student_id} deleted successfully.\")\n",
        "\n",
        "    def list_students(self):\n",
        "        if self.students:\n",
        "            for student in self.students:\n",
        "                print(student)\n",
        "        else:\n",
        "            print(\"No students available.\")\n"
      ],
      "metadata": {
        "id": "gNB3c7c3aNIj"
      },
      "execution_count": null,
      "outputs": []
    },
    {
      "cell_type": "code",
      "source": [
        "def menu():\n",
        "    crud = StudentCRUD()\n",
        "\n",
        "    while True:\n",
        "        print(\"\\n--- CRUD Estudiante ---\")\n",
        "        print(\"1. Agregar estudiante\")\n",
        "        print(\"2. Mostrar estudiante\")\n",
        "        print(\"3. Actualizar estudiante\")\n",
        "        print(\"4. Eliminar estudiante\")\n",
        "        print(\"5. Listar todos\")\n",
        "        print(\"6. Salir\")\n",
        "        opc = input(\"Seleccione una opción: \")\n",
        "\n",
        "        if opc == '1':\n",
        "            try:\n",
        "                student = Student(\n",
        "                    int(input(\"ID: \")),\n",
        "                    input(\"Nombre: \"),\n",
        "                    int(input(\"Edad: \")),\n",
        "                    input(\"Género: \"),\n",
        "                    input(\"Nota: \"),\n",
        "                    input(\"Email: \"),\n",
        "                    input(\"Teléfono: \"),\n",
        "                    input(\"Dirección: \")\n",
        "                )\n",
        "                crud.create_student(student)\n",
        "            except Exception as e:\n",
        "                print(f\"Error: {e}\")\n",
        "\n",
        "        elif opc == '2':\n",
        "            sid = int(input(\"ID del estudiante: \"))\n",
        "            student = crud.read_student(sid)\n",
        "            if student:\n",
        "                print(student)\n",
        "\n",
        "        elif opc == '3':\n",
        "            sid = int(input(\"ID del estudiante a actualizar: \"))\n",
        "            campo = input(\"Campo a actualizar (name, age, grade, etc.): \")\n",
        "            valor = input(\"Nuevo valor: \")\n",
        "            crud.update_student(sid, **{campo: valor})\n",
        "\n",
        "        elif opc == '4':\n",
        "            sid = int(input(\"ID del estudiante a eliminar: \"))\n",
        "            crud.delete_student(sid)\n",
        "\n",
        "        elif opc == '5':\n",
        "            crud.list_students()\n",
        "\n",
        "        elif opc == '6':\n",
        "            print(\"Saliendo...\")\n",
        "            break\n",
        "\n",
        "        else:\n",
        "            print(\"Opción inválida.\")\n",
        "\n",
        "if __name__ == '__main__':\n",
        "    menu()\n"
      ],
      "metadata": {
        "id": "jvbW0YpraO_M"
      },
      "execution_count": null,
      "outputs": []
    }
  ]
}