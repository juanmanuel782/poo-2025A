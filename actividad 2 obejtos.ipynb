{
  "nbformat": 4,
  "nbformat_minor": 0,
  "metadata": {
    "colab": {
      "provenance": [],
      "authorship_tag": "ABX9TyOZhj0AHpNlLpcR8oNK0HZp",
      "include_colab_link": true
    },
    "kernelspec": {
      "name": "python3",
      "display_name": "Python 3"
    },
    "language_info": {
      "name": "python"
    }
  },
  "cells": [
    {
      "cell_type": "markdown",
      "metadata": {
        "id": "view-in-github",
        "colab_type": "text"
      },
      "source": [
        "<a href=\"https://colab.research.google.com/github/juanmanuel782/poo-2025A/blob/main/tatrea_4.ipynb\" target=\"_parent\"><img src=\"https://colab.research.google.com/assets/colab-badge.svg\" alt=\"Open In Colab\"/></a>"
      ]
    },
    {
      "cell_type": "code",
      "execution_count": null,
      "metadata": {
        "colab": {
          "base_uri": "https://localhost:8080/"
        },
        "id": "b-vs4MNo3MK4",
        "outputId": "666ab661-a39f-428a-b7ef-979d1c96496a"
      },
      "outputs": [
        {
          "output_type": "stream",
          "name": "stdout",
          "text": [
            "Información inicial del empleado:\n",
            "Nombre: Carlos Pérez\n",
            "Departamento: Administración\n",
            "Salario: 50000\n",
            "\n",
            "Información actualizada del empleado:\n",
            "Nombre: Carlos Ramírez\n",
            "Departamento: Recursos Humanos\n",
            "Salario: 55000\n",
            "\n",
            "Intentando asignar un salario negativo...\n",
            "Error: El salario no puede ser negativo.\n"
          ]
        }
      ],
      "source": [
        "class EmpleadoUniversitario:\n",
        "    def __init__(self, nombre, departamento, salario):\n",
        "        self.nombre = nombre\n",
        "        self.departamento = departamento\n",
        "        self.__salario = salario\n",
        "\n",
        "\n",
        "    def get_nombre(self):\n",
        "        return self.nombre\n",
        "\n",
        "    def get_departamento(self):\n",
        "        return self.departamento\n",
        "\n",
        "    def get_salario(self):\n",
        "        return self.__salario\n",
        "\n",
        "\n",
        "    def set_nombre(self, nuevo_nombre):\n",
        "        self.nombre = nuevo_nombre\n",
        "\n",
        "    def set_departamento(self, nuevo_departamento):\n",
        "        self.departamento = nuevo_departamento\n",
        "\n",
        "    def set_salario(self, nuevo_salario):\n",
        "        if nuevo_salario < 0:\n",
        "            print(\"Error: El salario no puede ser negativo.\")\n",
        "        else:\n",
        "            self.__salario = nuevo_salario\n",
        "\n",
        "\n",
        "empleado = EmpleadoUniversitario(\"Carlos Pérez\", \"Administración\", 50000)\n",
        "\n",
        "print(\"Información inicial del empleado:\")\n",
        "print(\"Nombre:\", empleado.get_nombre())\n",
        "print(\"Departamento:\", empleado.get_departamento())\n",
        "print(\"Salario:\", empleado.get_salario())\n",
        "\n",
        "empleado.set_nombre(\"Carlos Ramírez\")\n",
        "empleado.set_departamento(\"Recursos Humanos\")\n",
        "empleado.set_salario(55000)\n",
        "\n",
        "print(\"\\nInformación actualizada del empleado:\")\n",
        "print(\"Nombre:\", empleado.get_nombre())\n",
        "print(\"Departamento:\", empleado.get_departamento())\n",
        "print(\"Salario:\", empleado.get_salario())\n",
        "\n",
        "print(\"\\nIntentando asignar un salario negativo...\")\n",
        "empleado.set_salario(-10000)"
      ]
    }
  ]
}
