{
  "nbformat": 4,
  "nbformat_minor": 0,
  "metadata": {
    "colab": {
      "provenance": [],
      "authorship_tag": "ABX9TyMvob3qANaA+ghgCzQwPyoo",
      "include_colab_link": true
    },
    "kernelspec": {
      "name": "python3",
      "display_name": "Python 3"
    },
    "language_info": {
      "name": "python"
    }
  },
  "cells": [
    {
      "cell_type": "markdown",
      "metadata": {
        "id": "view-in-github",
        "colab_type": "text"
      },
      "source": [
        "<a href=\"https://colab.research.google.com/github/juanmanuel782/poo-2025A/blob/main/actividad_1_objetos.ipynb\" target=\"_parent\"><img src=\"https://colab.research.google.com/assets/colab-badge.svg\" alt=\"Open In Colab\"/></a>"
      ]
    },
    {
      "cell_type": "code",
      "execution_count": null,
      "metadata": {
        "id": "_mIdq3G30RGl",
        "colab": {
          "base_uri": "https://localhost:8080/"
        },
        "outputId": "e66ef9ad-2d6a-49cf-8cb7-50709c0a36b1"
      },
      "outputs": [
        {
          "output_type": "stream",
          "name": "stdout",
          "text": [
            "Toyota Corolla, Año: 2020\n",
            "Última verificación: 2025-02-21 14:47:16\n"
          ]
        }
      ],
      "source": [
        "from datetime import datetime\n",
        "\n",
        "class Auto:\n",
        "    def __init__(self, marca, modelo, año):\n",
        "        self.marca = marca\n",
        "        self.modelo = modelo\n",
        "        self.año = año\n",
        "\n",
        "    def get_info(self):\n",
        "        return f\"{self.marca} {self.modelo}, Año: {self.año}\"\n",
        "\n",
        "    def ultima_verificacion(self):\n",
        "        print(f\"Última verificación: {datetime.now().strftime('%Y-%m-%d %H:%M:%S')}\")\n",
        "\n",
        "\n",
        "my_car = Auto(\"Toyota\", \"Corolla\", 2020)\n",
        "\n",
        "print(my_car.get_info())\n",
        "my_car.ultima_verificacion()"
      ]
    }
  ]
}