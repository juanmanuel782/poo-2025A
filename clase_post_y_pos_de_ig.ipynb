{
  "nbformat": 4,
  "nbformat_minor": 0,
  "metadata": {
    "colab": {
      "provenance": [],
      "authorship_tag": "ABX9TyPz7fChuXKKkQKQytPoup2F",
      "include_colab_link": true
    },
    "kernelspec": {
      "name": "python3",
      "display_name": "Python 3"
    },
    "language_info": {
      "name": "python"
    }
  },
  "cells": [
    {
      "cell_type": "markdown",
      "metadata": {
        "id": "view-in-github",
        "colab_type": "text"
      },
      "source": [
        "<a href=\"https://colab.research.google.com/github/juanmanuel782/poo-2025A/blob/main/clase_post_y_pos_de_ig.ipynb\" target=\"_parent\"><img src=\"https://colab.research.google.com/assets/colab-badge.svg\" alt=\"Open In Colab\"/></a>"
      ]
    },
    {
      "cell_type": "code",
      "execution_count": null,
      "metadata": {
        "id": "LoU-xRyvFcGf",
        "outputId": "d4a7ab18-406a-4aa3-9304-4db64e01a37f",
        "colab": {
          "base_uri": "https://localhost:8080/",
          "height": 339
        }
      },
      "outputs": [
        {
          "output_type": "error",
          "ename": "FileNotFoundError",
          "evalue": "[Errno 2] No such file or directory: 'elefante.jpg'",
          "traceback": [
            "\u001b[0;31m---------------------------------------------------------------------------\u001b[0m",
            "\u001b[0;31mFileNotFoundError\u001b[0m                         Traceback (most recent call last)",
            "\u001b[0;32m<ipython-input-1-327b17f6564b>\u001b[0m in \u001b[0;36m<cell line: 0>\u001b[0;34m()\u001b[0m\n\u001b[1;32m     63\u001b[0m \u001b[0mPublicacion1\u001b[0m \u001b[0;34m=\u001b[0m \u001b[0mInstagramPost\u001b[0m\u001b[0;34m(\u001b[0m\u001b[0;34m\"Elefante en la naturaleza\"\u001b[0m\u001b[0;34m,\u001b[0m \u001b[0mMyDate\u001b[0m\u001b[0;34m,\u001b[0m \u001b[0;34m\"Salvaje\"\u001b[0m\u001b[0;34m,\u001b[0m \u001b[0;34m\"Africa\"\u001b[0m\u001b[0;34m,\u001b[0m \u001b[0mimage_path\u001b[0m\u001b[0;34m)\u001b[0m\u001b[0;34m\u001b[0m\u001b[0;34m\u001b[0m\u001b[0m\n\u001b[1;32m     64\u001b[0m \u001b[0;34m\u001b[0m\u001b[0m\n\u001b[0;32m---> 65\u001b[0;31m \u001b[0mprint\u001b[0m\u001b[0;34m(\u001b[0m\u001b[0mPublicacion1\u001b[0m\u001b[0;34m.\u001b[0m\u001b[0mget_info\u001b[0m\u001b[0;34m(\u001b[0m\u001b[0;34m)\u001b[0m\u001b[0;34m)\u001b[0m\u001b[0;34m\u001b[0m\u001b[0;34m\u001b[0m\u001b[0m\n\u001b[0m\u001b[1;32m     66\u001b[0m \u001b[0mprint\u001b[0m\u001b[0;34m(\u001b[0m\u001b[0mPublicacion1\u001b[0m\u001b[0;34m)\u001b[0m\u001b[0;34m\u001b[0m\u001b[0;34m\u001b[0m\u001b[0m\n",
            "\u001b[0;32m<ipython-input-1-327b17f6564b>\u001b[0m in \u001b[0;36mget_info\u001b[0;34m(self)\u001b[0m\n\u001b[1;32m     55\u001b[0m \u001b[0;34m\u001b[0m\u001b[0m\n\u001b[1;32m     56\u001b[0m     \u001b[0;32mdef\u001b[0m \u001b[0mget_info\u001b[0m\u001b[0;34m(\u001b[0m\u001b[0mself\u001b[0m\u001b[0;34m)\u001b[0m\u001b[0;34m:\u001b[0m\u001b[0;34m\u001b[0m\u001b[0;34m\u001b[0m\u001b[0m\n\u001b[0;32m---> 57\u001b[0;31m         \u001b[0mimage_info\u001b[0m \u001b[0;34m=\u001b[0m \u001b[0msuper\u001b[0m\u001b[0;34m(\u001b[0m\u001b[0;34m)\u001b[0m\u001b[0;34m.\u001b[0m\u001b[0mget_info\u001b[0m\u001b[0;34m(\u001b[0m\u001b[0;34m)\u001b[0m\u001b[0;34m\u001b[0m\u001b[0;34m\u001b[0m\u001b[0m\n\u001b[0m\u001b[1;32m     58\u001b[0m         \u001b[0;32mreturn\u001b[0m \u001b[0;34mf\"Titulo: {self.title}\\nFecha: {self.date}\\nTags: {self.tags}\\nLugar: {self.location}\\n{image_info}\"\u001b[0m\u001b[0;34m\u001b[0m\u001b[0;34m\u001b[0m\u001b[0m\n\u001b[1;32m     59\u001b[0m \u001b[0;34m\u001b[0m\u001b[0m\n",
            "\u001b[0;32m<ipython-input-1-327b17f6564b>\u001b[0m in \u001b[0;36mget_info\u001b[0;34m(self)\u001b[0m\n\u001b[1;32m     28\u001b[0m     \u001b[0;32mdef\u001b[0m \u001b[0mget_info\u001b[0m\u001b[0;34m(\u001b[0m\u001b[0mself\u001b[0m\u001b[0;34m)\u001b[0m\u001b[0;34m:\u001b[0m\u001b[0;34m\u001b[0m\u001b[0;34m\u001b[0m\u001b[0m\n\u001b[1;32m     29\u001b[0m         \u001b[0;32mif\u001b[0m \u001b[0mself\u001b[0m\u001b[0;34m.\u001b[0m\u001b[0mimage\u001b[0m\u001b[0;34m:\u001b[0m\u001b[0;34m\u001b[0m\u001b[0;34m\u001b[0m\u001b[0m\n\u001b[0;32m---> 30\u001b[0;31m             \u001b[0mimg\u001b[0m \u001b[0;34m=\u001b[0m \u001b[0mImage\u001b[0m\u001b[0;34m.\u001b[0m\u001b[0mopen\u001b[0m\u001b[0;34m(\u001b[0m\u001b[0mself\u001b[0m\u001b[0;34m.\u001b[0m\u001b[0mimage\u001b[0m\u001b[0;34m)\u001b[0m\u001b[0;34m\u001b[0m\u001b[0;34m\u001b[0m\u001b[0m\n\u001b[0m\u001b[1;32m     31\u001b[0m             \u001b[0mimg\u001b[0m\u001b[0;34m.\u001b[0m\u001b[0mshow\u001b[0m\u001b[0;34m(\u001b[0m\u001b[0;34m)\u001b[0m\u001b[0;34m\u001b[0m\u001b[0;34m\u001b[0m\u001b[0m\n\u001b[1;32m     32\u001b[0m             \u001b[0mimage_info\u001b[0m \u001b[0;34m=\u001b[0m \u001b[0;34mf\"Image: {self.image}\"\u001b[0m\u001b[0;34m\u001b[0m\u001b[0;34m\u001b[0m\u001b[0m\n",
            "\u001b[0;32m/usr/local/lib/python3.11/dist-packages/PIL/Image.py\u001b[0m in \u001b[0;36mopen\u001b[0;34m(fp, mode, formats)\u001b[0m\n\u001b[1;32m   3463\u001b[0m \u001b[0;34m\u001b[0m\u001b[0m\n\u001b[1;32m   3464\u001b[0m     \u001b[0;32mif\u001b[0m \u001b[0mfilename\u001b[0m\u001b[0;34m:\u001b[0m\u001b[0;34m\u001b[0m\u001b[0;34m\u001b[0m\u001b[0m\n\u001b[0;32m-> 3465\u001b[0;31m         \u001b[0mfp\u001b[0m \u001b[0;34m=\u001b[0m \u001b[0mbuiltins\u001b[0m\u001b[0;34m.\u001b[0m\u001b[0mopen\u001b[0m\u001b[0;34m(\u001b[0m\u001b[0mfilename\u001b[0m\u001b[0;34m,\u001b[0m \u001b[0;34m\"rb\"\u001b[0m\u001b[0;34m)\u001b[0m\u001b[0;34m\u001b[0m\u001b[0;34m\u001b[0m\u001b[0m\n\u001b[0m\u001b[1;32m   3466\u001b[0m         \u001b[0mexclusive_fp\u001b[0m \u001b[0;34m=\u001b[0m \u001b[0;32mTrue\u001b[0m\u001b[0;34m\u001b[0m\u001b[0;34m\u001b[0m\u001b[0m\n\u001b[1;32m   3467\u001b[0m     \u001b[0;32melse\u001b[0m\u001b[0;34m:\u001b[0m\u001b[0;34m\u001b[0m\u001b[0;34m\u001b[0m\u001b[0m\n",
            "\u001b[0;31mFileNotFoundError\u001b[0m: [Errno 2] No such file or directory: 'elefante.jpg'"
          ]
        }
      ],
      "source": [
        "import requests\n",
        "from datetime import date\n",
        "from PIL import Image\n",
        "\n",
        "# Descargar la imagen desde la URL\n",
        "image_url = \"https://www.nationalgeographic.com.es/medio/2023/03/28/elefante-africano_230328_230921_800x800.jpg\"\n",
        "image_path = \"elefante.jpg\"\n",
        "\n",
        "response = requests.get(image_url)\n",
        "if response.status_code == 200:\n",
        "    with open(image_path, \"wb\") as file:\n",
        "        file.write(response.content)\n",
        "\n",
        "MyDate = date(2023, 4, 28)\n",
        "\n",
        "class Padre:\n",
        "    def __init__(self, title, date, tags, location, image=None):\n",
        "        self.title = title\n",
        "        self.date = date\n",
        "        self.tags = tags\n",
        "        self.location = location\n",
        "        self.image = image\n",
        "\n",
        "    def set_image(self, image):\n",
        "        self.image = image\n",
        "        return self.image\n",
        "\n",
        "    def get_info(self):\n",
        "        if self.image:\n",
        "            img = Image.open(self.image)\n",
        "            img.show()\n",
        "            image_info = f\"Image: {self.image}\"\n",
        "        else:\n",
        "            image_info = \"No image available.\"\n",
        "        return image_info\n",
        "\n",
        "    def __str__(self):\n",
        "        return self.title\n",
        "\n",
        "class InstagramPost(Padre):\n",
        "    def __init__(self, title, date, tags, location, image):\n",
        "        super().__init__(title, date, tags, location, image)\n",
        "        self.comentarios = []\n",
        "        self.likes = 0\n",
        "        self.compartir = 0\n",
        "\n",
        "    def agregar_comentario(self, comentario):\n",
        "        self.comentarios.append(comentario)\n",
        "\n",
        "    def dar_like(self):\n",
        "        self.likes += 1\n",
        "\n",
        "    def compartir(self):\n",
        "        self.compartir += 1\n",
        "\n",
        "    def get_info(self):\n",
        "        image_info = super().get_info()\n",
        "        return f\"Titulo: {self.title}\\nFecha: {self.date}\\nTags: {self.tags}\\nLugar: {self.location}\\n{image_info}\"\n",
        "\n",
        "    def __str__(self):\n",
        "        return f\"Comentarios: {self.comentarios}\\nLikes: {self.likes}\\nCompartir: {self.compartir}\"\n",
        "\n",
        "Publicacion1 = InstagramPost(\"Elefante en la naturaleza\", MyDate, \"Salvaje\", \"Africa\", image_path)\n",
        "\n",
        "print(Publicacion1.get_info())\n",
        "print(Publicacion1)\n"
      ]
    }
  ]
}