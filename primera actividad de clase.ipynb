{
  "nbformat": 4,
  "nbformat_minor": 0,
  "metadata": {
    "colab": {
      "provenance": [],
      "authorship_tag": "ABX9TyOQlnyu1ESN8x5bDKi5xV0K",
      "include_colab_link": true
    },
    "kernelspec": {
      "name": "python3",
      "display_name": "Python 3"
    },
    "language_info": {
      "name": "python"
    }
  },
  "cells": [
    {
      "cell_type": "markdown",
      "metadata": {
        "id": "view-in-github",
        "colab_type": "text"
      },
      "source": [
        "<a href=\"https://colab.research.google.com/github/juanmanuel782/poo-2025A/blob/main/Untitled6.ipynb\" target=\"_parent\"><img src=\"https://colab.research.google.com/assets/colab-badge.svg\" alt=\"Open In Colab\"/></a>"
      ]
    },
    {
      "cell_type": "code",
      "execution_count": null,
      "metadata": {
        "id": "rW8ncbYX88yR"
      },
      "outputs": [],
      "source": [
        "def encontrar_pares(lista, objetivo):\n",
        "    pares = []\n",
        "    for i in range(len(lista)):\n",
        "        for j in range(i+1, len(lista)):\n",
        "            if lista[i] + lista[j] == objetivo:\n",
        "                pares.append((lista[i], lista[j]))\n",
        "    return pares\n",
        "\n",
        "# Ejemplo\n",
        "print(encontrar_pares([1, 2, 3, 4, 5, 6], 7))\n",
        "# [(1, 6), (2, 5), (3, 4)]\n"
      ]
    },
    {
      "cell_type": "code",
      "source": [
        "from collections import Counter\n",
        "\n",
        "def caracter_mas_frecuente(cadena):\n",
        "    contador = Counter(cadena)\n",
        "    return contador.most_common(1)[0]\n",
        "\n",
        "# Ejemplo\n",
        "print(caracter_mas_frecuente(\"banana\"))\n",
        "# ('a', 3)\n"
      ],
      "metadata": {
        "id": "sNbv6kIB9AS-"
      },
      "execution_count": null,
      "outputs": []
    },
    {
      "cell_type": "code",
      "source": [
        "def validar_sudoku(tablero):\n",
        "    def es_valido(fila):\n",
        "        return len(set(fila)) == len(fila) and 0 not in fila\n",
        "\n",
        "    # Verificar filas\n",
        "    for fila in tablero:\n",
        "        if not es_valido(fila):\n",
        "            return False\n",
        "\n",
        "    # Verificar columnas\n",
        "    for col in range(9):\n",
        "        columna = [tablero[fila][col] for fila in range(9)]\n",
        "        if not es_valido(columna):\n",
        "            return False\n",
        "\n",
        "    # Verificar subcuadrículas 3x3\n",
        "    for i in range(0, 9, 3):\n",
        "        for j in range(0, 9, 3):\n",
        "            subcuadrícula = [tablero[fila][col] for fila in range(i, i+3) for col in range(j, j+3)]\n",
        "            if not es_valido(subcuadrícula):\n",
        "                return False\n",
        "\n",
        "    return True\n",
        "\n",
        "# Ejemplo\n",
        "tablero = [\n",
        "    [5, 3, 4, 6, 7, 8, 9, 1, 2],\n",
        "    [6, 7, 2, 1, 9, 5, 3, 4, 8],\n",
        "    [1, 9, 8, 3, 4, 2, 5, 6, 7],\n",
        "    [8, 5, 9, 7, 6, 1, 4, 2, 3],\n",
        "    [4, 2, 6, 8, 5, 3, 7, 9, 1],\n",
        "    [7, 1, 3, 9, 2, 4, 8, 5, 6],\n",
        "    [9, 6, 1, 5, 3, 7, 2, 8, 4],\n",
        "    [2, 8, 7, 4, 1, 9, 6, 3, 5],\n",
        "    [3, 4, 5, 2, 8, 6, 1, 7, 9]\n",
        "]\n",
        "print(validar_sudoku(tablero))  # True\n"
      ],
      "metadata": {
        "id": "zMNBunBv9DU9"
      },
      "execution_count": null,
      "outputs": []
    },
    {
      "cell_type": "code",
      "source": [
        "def numeros_primos(a, b):\n",
        "    def es_primo(num):\n",
        "        if num < 2:\n",
        "            return False\n",
        "        for i in range(2, int(num**0.5) + 1):\n",
        "            if num % i == 0:\n",
        "                return False\n",
        "        return True\n",
        "\n",
        "    return [num for num in range(a, b+1) if es_primo(num)]\n",
        "\n",
        "# Ejemplo\n",
        "print(numeros_primos(10, 30))\n",
        "# [11, 13, 17, 19, 23, 29]\n"
      ],
      "metadata": {
        "id": "VkdJV0HR9F4e"
      },
      "execution_count": null,
      "outputs": []
    },
    {
      "cell_type": "code",
      "source": [
        "def longitud_collatz(n):\n",
        "    pasos = 0\n",
        "    while n != 1:\n",
        "        if n % 2 == 0:\n",
        "            n //= 2\n",
        "        else:\n",
        "            n = 3 * n + 1\n",
        "        pasos += 1\n",
        "    return pasos\n",
        "\n",
        "# Ejemplo\n",
        "print(longitud_collatz(12))\n",
        "# 9\n"
      ],
      "metadata": {
        "id": "joSk6vwP9KyG"
      },
      "execution_count": null,
      "outputs": []
    }
  ]
}
